{
 "cells": [
  {
   "cell_type": "code",
   "execution_count": 49,
   "metadata": {},
   "outputs": [],
   "source": [
    "from load_llm import openai_llm, groq_llm, llm\n",
    "from langchain_core.prompts import ChatPromptTemplate"
   ]
  },
  {
   "cell_type": "code",
   "execution_count": 6,
   "metadata": {},
   "outputs": [],
   "source": [
    "from typing import *\n",
    "from langchain_core.pydantic_v1 import BaseModel, Field\n",
    "\n",
    "\n",
    "class Supervisor(BaseModel):\n",
    "    \"\"\"select agent and explantion for selecting the agent\"\"\"\n",
    "\n",
    "    agent: Literal[\"ai_expert\", \"stock_trader\", \"generic\"] = Field(\n",
    "        ...,\n",
    "        description=\"\"\"select following agents based user question agents: ai_expert, stock_trader, generic\"\"\",\n",
    "    )\n",
    "\n",
    "    explanation: str = Field(description=\"explain the reason for selecting specific agent\")"
   ]
  },
  {
   "cell_type": "code",
   "execution_count": 7,
   "metadata": {},
   "outputs": [],
   "source": [
    "prompt = ChatPromptTemplate.from_messages(\n",
    "    [\n",
    "        (\n",
    "            \"system\",\n",
    "            \"\"\"\n",
    "            \"You are a supervisor tasked with selecting right agent to act next \n",
    "            \n",
    "            ai_expert\n",
    "            Expertise:  AI, Data science\n",
    "            Description: An ai_researcher is an expert in researching and developing new machine learning and AI models, algorithms, and techniques. They have in-depth knowledge of data science and can collect, analyze, and interpret complex data to inform their research.\n",
    "\n",
    "            stock_trader\n",
    "            Expertise: Stock market analysis, trading\n",
    "            Description: A stock_trader is an expert in analyzing and predicting stock market trends, and making informed trading decisions. They have in-depth knowledge of financial markets, economic indicators, and trading strategies.\n",
    "\n",
    "            generic\n",
    "            Expertise: General topics\n",
    "            \n",
    "            Description: If a topic does not fall under the specific expertise of the other agents, the query will default to the generic agent. This ensures that a wide array of questions can be addressed, even if they do not pertain to the specialized fields of the other agents.\n",
    "\n",
    "            specify reason for selecting the agent\n",
    "            \"\"\",\n",
    "        ),\n",
    "        (\"human\", \"{query}\"),\n",
    "    ]\n",
    ")\n",
    "\n",
    "structured_llm = openai_llm.with_structured_output(Supervisor)\n",
    "\n",
    "structured_llm = prompt | structured_llm"
   ]
  },
  {
   "cell_type": "code",
   "execution_count": 9,
   "metadata": {},
   "outputs": [
    {
     "name": "stdout",
     "output_type": "stream",
     "text": [
      "agent='generic' explanation='The question is about learning a specific software framework, which is a general topic and does not require specialized knowledge in AI or stock trading. Therefore, the generic agent is the most suitable to handle this query.'\n"
     ]
    }
   ],
   "source": [
    "query = \"How to learn spring framework\"\n",
    "\n",
    "res = structured_llm.invoke({\"query\": query})\n",
    "print(res)"
   ]
  },
  {
   "cell_type": "code",
   "execution_count": 10,
   "metadata": {},
   "outputs": [
    {
     "data": {
      "text/plain": [
       "'generic'"
      ]
     },
     "execution_count": 10,
     "metadata": {},
     "output_type": "execute_result"
    }
   ],
   "source": [
    "res.agent"
   ]
  },
  {
   "cell_type": "code",
   "execution_count": 7,
   "metadata": {},
   "outputs": [],
   "source": [
    "from langchain_community.utilities.duckduckgo_search import DuckDuckGoSearchAPIWrapper\n",
    "from langchain_community.retrievers import TavilySearchAPIRetriever\n",
    "\n",
    "\n",
    "search_engine = DuckDuckGoSearchAPIWrapper()"
   ]
  },
  {
   "cell_type": "code",
   "execution_count": 10,
   "metadata": {},
   "outputs": [
    {
     "name": "stdout",
     "output_type": "stream",
     "text": [
      "India's markets regulator on Sunday asked investors to remain calm and exercise due diligence before reacting to reports such as that by US-based shortseller Hindenburg Research.\n"
     ]
    }
   ],
   "source": [
    "print(search_engine._ddgs_text(\"Indian government statement on Hindenburg report\", max_results=5)[0][\"body\"])"
   ]
  },
  {
   "cell_type": "code",
   "execution_count": 6,
   "metadata": {},
   "outputs": [
    {
     "data": {
      "text/plain": [
       "[[Document(metadata={'title': 'Elon Musk | Tesla', 'source': 'https://www.tesla.com/elon-musk', 'score': 0.9964064, 'images': []}, page_content=\"Learn about Elon Musk's vision and achievements as the leader of Tesla, SpaceX, Neuralink and The Boring Company. Tesla is a sustainable energy company that produces electric vehicles, battery products and solar power systems, while SpaceX is a space exploration company that aims to colonize Mars.\"),\n",
       "  Document(metadata={'title': 'Who Is Elon Musk? - Investopedia', 'source': 'https://www.investopedia.com/articles/personal-finance/061015/how-elon-musk-became-elon-musk.asp', 'score': 0.98439646, 'images': []}, page_content=\"“Elon Musk Tried to Pitch the Head of the Yellow Pages Before the Internet Boom: ‘He Threw the Book at Me’.”\\nCompaq Computer, via U.S. Securities and Exchange Commission. SpaceX\\nMusk used most of the proceeds from his PayPal stake to found Space Exploration Technologies Corp., the rocket's developer commonly known as SpaceX. By his own account, Musk spent $100 million to found SpaceX in 2002.\\n Musk subsequently settled a Securities and Exchange Commission (SEC) complaint alleging he knowingly misled investors with the tweet by paying a $20 million fine along with the same penalty for Tesla, and agreeing to let Tesla’s lawyers approve tweets with material corporate information before posting.\\n Tesla\\nMusk became involved with the electric cars venture as an early investor in 2004, ultimately contributing about $6.3 million, to begin with, and joined the team, including engineer Martin Eberhard, to help run a company then known as Tesla Motors. The company’s board adopted a poison pill provision to discourage Musk from accumulating an even larger stake, but they ultimately accepted Musk’s offer after he disclosed $46.5 billion in committed financing for the deal in a securities filing.\"),\n",
       "  Document(metadata={'title': 'Elon Musk - Forbes', 'source': 'https://www.forbes.com/profile/elon-musk/', 'score': 0.9361684, 'images': []}, page_content=\"And Musk Of Profiting Off Hamas Propaganda: ‘Indefensible’\\nX Will Donate Ad Revenue To Gaza Aid Groups And Israeli Hospitals, Elon Musk Says\\nElon Musk Threatens ‘Thermonuclear’ Lawsuit Against Group Reporting Antisemitic X Posts Appearing Near Ads\\nBacklash Is Growing Over Elon Musk's Support Of Antisemitic Tweet—It's Not The First Time He's Faced Controversy Over His Posts\\nElon Musk Threatens ‘Thermonuclear’ Lawsuit Against Group Reporting Antisemitic X Posts Appearing Near Ads\\nElon Musk Condemned After Calling Antisemitic Post ‘Actual Truth’\\n More on Forbes\\nLawmakers Push For SEC Probe Into Elon Musk’s Neuralink For Claims About Brain Implant Safety\\nHow Elon Musk’s Personal Brand Devalues X\\nHouse Democrats Accuse X Tesla Stock Slides\\nHow Elon Musk Changed Twitter A Year And $44 Billion Later\\nElon Musk Has Somehow Killed The Share Button On PlayStation\\nForbes Daily: To Innovate Like Elon Musk\\nElon Musk Says Starlink Hit Breakeven Cash Flow\\n2023 Forbes 400: The Richest Newcomers\\nalso on forbes\")],\n",
       " [Document(metadata={'title': 'Jeff Bezos | Biography, Amazon, & Facts | Britannica Money', 'source': 'https://www.britannica.com/money/Jeff-Bezos', 'score': 0.99876, 'images': []}, page_content='Jeff Bezos (born January 12, 1964, Albuquerque, New Mexico, U.S.) is an American entrepreneur who played a key role in the growth of e-commerce as the founder and chief executive officer of Amazon.com, Inc., an online merchant of books and later of a wide variety of products.Under his guidance, Amazon became the largest retailer on the World Wide Web and the model for Internet sales.'),\n",
       "  Document(metadata={'title': 'Jeff Bezos - Wikipedia', 'source': 'https://en.wikipedia.org/wiki/Jeff_Bezos', 'score': 0.9852146, 'images': []}, page_content='He warned many early investors that there was a 70% chance that Amazon would fail or go bankrupt.[53] Although Amazon was originally an online bookstore, Bezos had always planned to expand to other products.[43][49] Three years after Bezos founded Amazon, he took it public with an initial public offering (IPO).[54] In response to critical reports from Fortune and Barron\\'s, Bezos maintained that the growth of the Internet would overtake competition from larger book retailers such as Borders and Barnes & Noble.[49]\\nIn 1998, Bezos diversified into the online sale of music and video, and by the end of the year he had expanded the company\\'s products to include a variety of other consumer goods.[49] Bezos used the $54\\xa0million raised during the company\\'s 1997 equity offering to finance the aggressive acquisition of smaller competitors.[49] In 2000, Bezos borrowed $2 billion from banks, as its cash balances dipped to only $350\\xa0million.[55] In January 2019, Bezos and his wife Mackenzie released a joint statement which revealed that they would be getting divorced after 25 years together.[250][251][252] Subsequently, National Enquirer revealed that Bezos had an affair with media personality Lauren Sánchez; the affair with Sánchez had lasted for months.[253][254] Later, Bezos published an online essay on February 7, 2019, in which he accused American Media, Inc. owner David Pecker of \"extortion and blackmail\" for threatening to publish intimate photos of Bezos and current girlfriend Lauren Sánchez[255] if he did not stop his investigation into how his text messages and other photos had been leaked to the National Enquirer.[256][257] Media reports have accused Sánchez\\'s brother Michael of being the source for the photos obtained by National Enquirer; however, Bezos has speculated that it may have been the Saudi Arabian government.[258]\\nOn April 4, 2019, the divorce was finalized, with Bezos keeping 75% of the couple\\'s Amazon stock and MacKenzie getting the remaining 25% ($35.6\\xa0billion) in Amazon stock. \"[275] Despite Bezos\\'s support for an open borders policy towards immigrants, Amazon has actively marketed facial recognition software to U.S. Immigration and Customs Enforcement (ICE).[276]\\nIn 2019, a political action committee linked to Bezos spent over $1\\xa0million in an unsuccessful attempt to defeat the reelection bid of Seattle city council member and activist Kshama Sawant.[277]\\nOn November 22, 2021, Jeff Bezos donated $100\\xa0million to the Obama Foundation to \"help expand the scope of programming that reaches emerging leaders\", and requested the Obama Presidential Center\\'s plaza to be named after John Lewis.[278][279]\\nSaudi hacking claim\\nIn March 2018, Bezos met in Seattle with Mohammad bin Salman, the crown prince and de facto ruler of Saudi Arabia, to discuss investment opportunities for Saudi Vision 2030.[280] In March 2019, Bezos\\'s security consultant accused the Saudi government of hacking Bezos\\'s phone. With Bezos at the helm and Scott taking an integral role in its operation—writing checks, keeping track of the books, and negotiating the company\\'s first freight contracts—the foundation was laid for this garage-run operation to grow exponentially.[47] Prior to settling in Seattle, Bezos had investigated setting up his company at an Indian reservation near San Francisco in order to avoid paying taxes.[48] Bezos initially named his new company Cadabra but later changed the name to Amazon after the Amazon River in South America, in part because the name begins with the letter A, which is at the beginning of the alphabet.[49] At the time, website listings were alphabetized, so a name starting with \"A\" would appear sooner when customers conducted online searches.[50] At the time of the post, Bezos\\'s lifetime spending on charitable causes was estimated to be $100\\xa0million.[26] Multiple opinion columnists responded by asking Bezos to pay higher wages to Amazon warehouse workers.[291][292] A year later in June, he tweeted that he would announce two philanthropic foci by the end of summer 2018.[293] Bezos announced in September 2018 that he would commit approximately $2\\xa0billion to a fund to deal with American homelessness and establish a network of non-profit preschools for low income communities.[294] As part of this announcement, he committed to establishing the \"Day 1 Families Fund\" to finance \"night shelters and day care centers for homeless families\" and the \"Day 1 Academies Fund\" for early childhood education.[295][296]\\nIn January 2018, Bezos made a $33\\xa0million donation to TheDream.'),\n",
       "  Document(metadata={'title': 'Jeff Bezos and Blue Origin Crew Launches to Space - The New York Times', 'source': 'https://www.nytimes.com/2021/07/20/science/bezos-blue-origin-space.html', 'score': 0.98235554, 'images': []}, page_content='In 2017, Mr. Bezos announced that he would sell $1 billion of Amazon stock a year to fund the space venture, and Blue Origin has already pursued a range of business opportunities, such as trying to win contracts for a moon lander for NASA astronauts as well as launching satellites for the Department of Defense on large reusable rockets.\\n Advertisement\\nSupported by\\nBezos Launches to Space, Aiming to Reignite His Rocket Company’s Ambitions\\nThe Amazon founder and three others lifted off in Blue Origin’s New Shepard spacecraft, fulfilling a goal more than 20 years in the making.\\n While Mr. Bezos was beaten to space last week by Richard Branson, the British entrepreneur who flew in a rocket plane from his company Virgin Galactic, some analysts consider Blue Origin, founded by Mr. Bezos more than 20 years ago, to be a more significant contender in the future space economy. “The only way that I can see to deploy this much financial resource is by converting my Amazon winnings into space travel,” he said a few years ago, couching his investment as a form of philanthropy.\\n It was a brief jaunt — rising more than 65 miles into the sky above West Texas — in a spacecraft that was built by Mr. Bezos’ rocket company, Blue Origin.\\n')]]"
      ]
     },
     "execution_count": 6,
     "metadata": {},
     "output_type": "execute_result"
    }
   ],
   "source": [
    "docs"
   ]
  },
  {
   "cell_type": "code",
   "execution_count": null,
   "metadata": {},
   "outputs": [],
   "source": []
  },
  {
   "cell_type": "code",
   "execution_count": 50,
   "metadata": {},
   "outputs": [],
   "source": [
    "from langchain.agents import AgentExecutor, create_tool_calling_agent\n",
    "from langchain_community.tools.tavily_search import TavilySearchResults\n",
    "from langchain_core.prompts import ChatPromptTemplate\n",
    "\n",
    "tools = [TavilySearchResults(max_results=1)]"
   ]
  },
  {
   "cell_type": "code",
   "execution_count": 82,
   "metadata": {},
   "outputs": [
    {
     "data": {
      "text/plain": [
       "[{'url': 'https://www.bbc.co.uk/news/world-asia-india-67482722',\n",
       "  'content': 'BBC News, Delhi. Millions of Indians cried along with cricket captain Rohit Sharma on Sunday as he walked off the field, trying to hold back his tears. His team had just lost the cricket World Cup ...'}]"
      ]
     },
     "execution_count": 82,
     "metadata": {},
     "output_type": "execute_result"
    }
   ],
   "source": [
    "tools[0].invoke(\"rohit sharma\")"
   ]
  },
  {
   "cell_type": "code",
   "execution_count": null,
   "metadata": {},
   "outputs": [],
   "source": []
  },
  {
   "cell_type": "code",
   "execution_count": 80,
   "metadata": {},
   "outputs": [],
   "source": [
    "prompt = ChatPromptTemplate.from_messages(\n",
    "    [\n",
    "        (\n",
    "            \"system\",\n",
    "            \"You are a helpful assistant. Make sure to use the tavily_search_results_json tool for information. Give explanation why you are using a tool\",\n",
    "        ),\n",
    "        (\"placeholder\", \"{chat_history}\"),\n",
    "        (\"placeholder\", \"{agent_scratchpad}\"),\n",
    "        (\"human\", \"{input}\"),\n",
    "    ]\n",
    ")\n",
    "\n",
    "# Construct the Tools agent\n",
    "agent = create_tool_calling_agent(llm, tools, prompt)\n",
    "agent_executor = AgentExecutor(\n",
    "    agent=agent, tools=tools, verbose=True, handle_parsing_errors=True, return_intermediate_steps=True\n",
    ")"
   ]
  },
  {
   "cell_type": "code",
   "execution_count": 28,
   "metadata": {},
   "outputs": [],
   "source": [
    "# Create an agent executor by passing in the agent and tools\n",
    "agent_executor = AgentExecutor(agent=agent, tools=tools, verbose=False)\n",
    "res = agent_executor.invoke({\"input\": \"what is LangChain?\"})"
   ]
  },
  {
   "cell_type": "code",
   "execution_count": 61,
   "metadata": {},
   "outputs": [],
   "source": []
  },
  {
   "cell_type": "code",
   "execution_count": 29,
   "metadata": {},
   "outputs": [
    {
     "data": {
      "text/plain": [
       "dict_keys(['input', 'output'])"
      ]
     },
     "execution_count": 29,
     "metadata": {},
     "output_type": "execute_result"
    }
   ],
   "source": [
    "res.keys()"
   ]
  },
  {
   "cell_type": "code",
   "execution_count": 31,
   "metadata": {},
   "outputs": [],
   "source": [
    "prompt = ChatPromptTemplate.from_messages(\n",
    "    [\n",
    "        (\n",
    "            \"system\",\n",
    "            \"\"\"\n",
    "You are a helpful assistant.\n",
    "            \"\"\",\n",
    "        ),\n",
    "        (\"placeholder\", \"{chat_history}\"),\n",
    "    ]\n",
    ")"
   ]
  },
  {
   "cell_type": "code",
   "execution_count": 33,
   "metadata": {},
   "outputs": [],
   "source": [
    "from langchain_core.messages import *\n",
    "\n",
    "value = prompt.invoke({\"chat_history\": [HumanMessage(content=\"hi\"), AIMessage(content=\"hello\")]})"
   ]
  },
  {
   "cell_type": "code",
   "execution_count": 34,
   "metadata": {},
   "outputs": [
    {
     "data": {
      "text/plain": [
       "[SystemMessage(content='\\nYou are a helpful assistant.\\n            '),\n",
       " HumanMessage(content='hi'),\n",
       " AIMessage(content='hello')]"
      ]
     },
     "execution_count": 34,
     "metadata": {},
     "output_type": "execute_result"
    }
   ],
   "source": [
    "value.messages"
   ]
  },
  {
   "cell_type": "code",
   "execution_count": null,
   "metadata": {},
   "outputs": [],
   "source": []
  },
  {
   "cell_type": "code",
   "execution_count": null,
   "metadata": {},
   "outputs": [],
   "source": []
  },
  {
   "cell_type": "code",
   "execution_count": null,
   "metadata": {},
   "outputs": [],
   "source": []
  },
  {
   "cell_type": "code",
   "execution_count": 62,
   "metadata": {},
   "outputs": [],
   "source": [
    "from load_llm import openai_llm, groq_llm\n",
    "from langchain_core.prompts import ChatPromptTemplate\n",
    "\n",
    "from typing import *\n",
    "from langchain_core.pydantic_v1 import BaseModel, Field\n",
    "from langchain_core.messages import *\n",
    "\n",
    "\n",
    "class Planner(BaseModel):\n",
    "    \"\"\"list of steps to answer the query\"\"\"\n",
    "\n",
    "    steps: List[str] = Field(\n",
    "        ...,\n",
    "        description=\"\"\"list of steps to answer the query\"\"\",\n",
    "    )\n",
    "\n",
    "\n",
    "prompt = ChatPromptTemplate.from_messages(\n",
    "    [\n",
    "        (\n",
    "            \"system\",\n",
    "            \"\"\"\n",
    "As a planner, list all the steps required to answer the query\n",
    "            Previous conversation history:\n",
    "\n",
    "            {chat_history}\n",
    "            \"\"\",\n",
    "        ),\n",
    "        (\"human\", \"{query}\"),\n",
    "    ]\n",
    ")\n",
    "\n",
    "structured_llm = groq_llm.with_structured_output(Planner)\n",
    "\n",
    "structured_llm = prompt | structured_llm\n",
    "\n",
    "\n",
    "# # Create an agent executor by passing in the agent and tools\n",
    "# agent_executor = AgentExecutor(agent=agent, tools=tools, verbose=True)"
   ]
  },
  {
   "cell_type": "code",
   "execution_count": 78,
   "metadata": {},
   "outputs": [
    {
     "name": "stdout",
     "output_type": "stream",
     "text": [
      "1. 1. Identify the motivations behind Osama bin Laden's actions\n",
      "2. 2. Research the events leading up to the 9/11 attacks\n",
      "3. 3. Understand the role of Al-Qaeda in the attacks\n",
      "4. 4. Analyze the impact of the attacks on global politics and international relations\n",
      "5. 5. Evaluate the consequences of the attacks on the United States and the world\n"
     ]
    }
   ],
   "source": [
    "query = \"\"\"\n",
    "why osama bin laden destroyed twin towers \"\"\"\n",
    "response = structured_llm.invoke({\"query\": query, \"chat_history\": []})\n",
    "\n",
    "plan = response.steps\n",
    "plan_str = \"\\n\".join(f\"{i+1}. {step}\" for i, step in enumerate(plan))\n",
    "print(plan_str)"
   ]
  },
  {
   "cell_type": "code",
   "execution_count": 81,
   "metadata": {},
   "outputs": [
    {
     "name": "stdout",
     "output_type": "stream",
     "text": [
      "\n",
      "\n",
      "\u001b[1m> Entering new AgentExecutor chain...\u001b[0m\n",
      "\u001b[32;1m\u001b[1;3m\n",
      "Invoking: `tavily_search_results_json` with `{'query': 'Osama bin Laden motivations for 9/11 attacks'}`\n",
      "\n",
      "\n",
      "\u001b[0m\u001b[36;1m\u001b[1;3m[{'url': 'https://en.wikipedia.org/wiki/Motives_for_the_September_11_attacks', 'content': 'In an essay, Doran argued that bin Laden\\'s followers \"consider themselves an island of true believers surrounded by a sea of iniquity\".[65] Doran further argued that bin Laden hoped that US retaliation would unite the faithful against the West, sparking revolutions in Arab nations and elsewhere, and that the Osama bin Laden videos were attempting to provoke a visceral reaction in the Middle East aimed at a violent reaction by Muslim citizens to increased US involvement in their region.[66]\\nBergen argued that the attacks were part of a plan to cause the United States to increase its military and cultural presence in the Middle East, thereby forcing Muslims to confront the idea of a non-Muslim government and establish conservative Islamic governments in the region.[67]\\nU.S. President George W. Bush did in fact declare a War on Terror, which resulted in the temporary loss of control of Afghanistan by the Al-Qaeda-allied Taliban after fighting for two decades. After the end of the Gulf War and after the Iraqi withdrawal from Kuwait, the sanctions were linked to removal of weapons of mass destruction by Resolution 687.[36]\\nIn the 1998 fatwa, al-Qaeda identified the Iraq sanctions as a reason to kill Americans:\\ndespite the great devastation inflicted on the Iraqi people by the crusader-Zionist alliance, and despite the huge number of those killed, which has exceeded 1 million ... despite all this, the Americans are once again trying to repeat the horrific massacres, as though they are not content with the protracted blockade imposed after the ferocious war or the fragmentation and devastation. ... Despite this, you refuse to sign the Kyoto agreement so that you can secure the profit of your greedy companies and industries.[51]\\nAyman al-Zawahiri, said global warming reflected\\nhow brutal and greedy the Western Crusader world is, with America at its top [52]\\nBin Laden has also called for the destruction of the American economy as a way of fighting global warming.[53]\\nAmerican immorality[edit]\\nIn the above-mentioned letter, bin Laden lamented the immoral behavior that has become the norm in the United States as a motivating factor in his decision to launch the attacks:\\nThe second thing we call you to, is to stop your oppression, lies, immorality and debauchery that has spread among you. The fatwā also denounced the presence of US troops in Saudi Arabia and asserted that Americans were attempting to balkanize and destabilize the Arab world with the intent of guaranteeing \"Israel\\'s survival\":[4][5]\\n\"..for over seven years the United States has been occupying the lands of Islam in the holiest of places, the Arabian Peninsula, plundering its riches, dictating to its rulers, humiliating its people, terrorizing its neighbors, and turning its bases in the Peninsula into a spearhead through which to fight the neighboring Muslim peoples. In both of these fatāwā, bin Laden sharply criticized the financial contributions of the American government to the Saudi royal family as well as American military intervention in the Arab world.[3]\\nThese motivations were published in bin Laden\\'s November 2002 Letter to the American people,[4][5] in which he said that al-Qaeda\\'s motives for the attacks included Western support for attacking Muslims in Somalia, supporting Russian atrocities against Muslims in Chechnya, supporting the Indian oppression against Muslims in Kashmir, condoning the 1982 massacres in Lebanon, the presence of US troops in Saudi Arabia,[5][6][7]'}]\u001b[0m\u001b[32;1m\u001b[1;3m\n",
      "Invoking: `tavily_search_results_json` with `{'query': 'events leading up to 9/11 attacks'}`\n",
      "\n",
      "\n",
      "\u001b[0m\u001b[36;1m\u001b[1;3m[{'url': 'https://en.wikipedia.org/wiki/Timeline_of_the_September_11_attacks', 'content': 'The following timeline is a chronological list of all the major events leading up to, during, and immediately following the September 11 attacks against the United States in 2001, through the first anniversary of the attacks in 2002. ... 9/11 hijacker Jarrah has unofficial wedding; photograph later suggests German intelligence has informant.'}]\u001b[0m\u001b[32;1m\u001b[1;3m\n",
      "Invoking: `tavily_search_results_json` with `{'query': 'Al-Qaeda role in 9/11 attacks'}`\n",
      "\n",
      "\n",
      "\u001b[0m\u001b[36;1m\u001b[1;3m[{'url': 'https://www.nbcnews.com/news/world/was-al-qaeda-leader-911-mastsermind-ayman-al-zawahiri-rcna41067', 'content': 'Called a mastermind of the Sept. 11, 2001, attacks, the leader of Al Qaeda, Ayman al-Zawahiri, has been one of the most sought-after people by the U.S. for over two decades. Al-Zawahiri, a trained ...'}]\u001b[0m\u001b[32;1m\u001b[1;3m\n",
      "Invoking: `tavily_search_results_json` with `{'query': 'impact of 9/11 attacks on global politics'}`\n",
      "\n",
      "\n",
      "\u001b[0m\u001b[36;1m\u001b[1;3m[{'url': 'https://www.brookings.edu/articles/twenty-years-later-how-americans-assess-the-effects-of-the-9-11-attacks/', 'content': \"The 9/11 attacks and their aftermath have changed Americans' perceptions of our foreign policy. ... U.S. Government & Politics 20 years later: The lasting impact of 9/11 on ... and global levels ...\"}]\u001b[0m\u001b[32;1m\u001b[1;3m\n",
      "Invoking: `tavily_search_results_json` with `{'query': 'consequences of 9/11 attacks on United States and the world'}`\n",
      "\n",
      "\n",
      "\u001b[0m\u001b[36;1m\u001b[1;3m[{'url': 'https://www.kqed.org/lowdown/14066/13-years-later-four-major-lasting-impacts-of-911', 'content': 'Less than a month after 9/11, U.S. troops invaded Afghanistan in an attempt to dismantle al-Qaeda — the terrorist group that claimed responsibility for the attacks — and remove the Taliban government harboring it. Two years later, in March 2003, the United States invaded Iraq and deposed President Saddam Hussein.'}]\u001b[0m\u001b[32;1m\u001b[1;3mOsama bin Laden destroyed the Twin Towers as part of a larger plan to inflict harm on the United States and its interests. The motivations behind his actions were rooted in his extremist ideology and a desire to defend Islam against perceived Western aggression.\n",
      "\n",
      "Bin Laden was motivated by a range of factors, including:\n",
      "\n",
      "1. Opposition to US foreign policy in the Middle East, particularly the presence of US troops in Saudi Arabia.\n",
      "2. Anger over US support for Israel and its treatment of Palestinians.\n",
      "3. A desire to unite Muslims against the West and establish a global Islamic caliphate.\n",
      "\n",
      "The events leading up to the 9/11 attacks were complex and multifaceted. They included:\n",
      "\n",
      "1. The Soviet-Afghan War, which drew bin Laden and other jihadists to Afghanistan to fight against the Soviet Union.\n",
      "2. The Gulf War, which led to the presence of US troops in Saudi Arabia and further radicalized bin Laden.\n",
      "3. The rise of Al-Qaeda, which bin Laden founded in the late 1980s and which became a global network of jihadists.\n",
      "\n",
      "Al-Qaeda played a central role in the 9/11 attacks, which were planned and carried out by a group of operatives led by bin Laden. The attacks were intended to inflict maximum damage on the United States and its economy, and to create a sense of fear and uncertainty among the American people.\n",
      "\n",
      "The impact of the 9/11 attacks on global politics and international relations was significant. They led to:\n",
      "\n",
      "1. The launch of the War on Terror, a global military campaign aimed at rooting out Al-Qaeda and other jihadist groups.\n",
      "2. The invasion of Afghanistan, which toppled the Taliban regime and led to a long and bloody conflict.\n",
      "3. The invasion of Iraq, which was justified by the US government as part of the War on Terror but was widely criticized as a mistake.\n",
      "\n",
      "The consequences of the 9/11 attacks on the United States and the world were far-reaching. They included:\n",
      "\n",
      "1. The loss of thousands of lives, both on the day of the attacks and in the subsequent wars in Afghanistan and Iraq.\n",
      "2. A significant increase in military spending and a shift towards a more militarized foreign policy.\n",
      "3. A rise in Islamophobia and anti-Muslim sentiment in the United States and other Western countries.\n",
      "4. A decline in civil liberties and an increase in surveillance and security measures.\n",
      "\n",
      "Overall, the 9/11 attacks were a pivotal moment in modern history, with far-reaching consequences for global politics, international relations, and the lives of millions of people around the world.\u001b[0m\n",
      "\n",
      "\u001b[1m> Finished chain.\u001b[0m\n"
     ]
    },
    {
     "data": {
      "text/markdown": [
       "Osama bin Laden destroyed the Twin Towers as part of a larger plan to inflict harm on the United States and its interests. The motivations behind his actions were rooted in his extremist ideology and a desire to defend Islam against perceived Western aggression.\n",
       "\n",
       "Bin Laden was motivated by a range of factors, including:\n",
       "\n",
       "1. Opposition to US foreign policy in the Middle East, particularly the presence of US troops in Saudi Arabia.\n",
       "2. Anger over US support for Israel and its treatment of Palestinians.\n",
       "3. A desire to unite Muslims against the West and establish a global Islamic caliphate.\n",
       "\n",
       "The events leading up to the 9/11 attacks were complex and multifaceted. They included:\n",
       "\n",
       "1. The Soviet-Afghan War, which drew bin Laden and other jihadists to Afghanistan to fight against the Soviet Union.\n",
       "2. The Gulf War, which led to the presence of US troops in Saudi Arabia and further radicalized bin Laden.\n",
       "3. The rise of Al-Qaeda, which bin Laden founded in the late 1980s and which became a global network of jihadists.\n",
       "\n",
       "Al-Qaeda played a central role in the 9/11 attacks, which were planned and carried out by a group of operatives led by bin Laden. The attacks were intended to inflict maximum damage on the United States and its economy, and to create a sense of fear and uncertainty among the American people.\n",
       "\n",
       "The impact of the 9/11 attacks on global politics and international relations was significant. They led to:\n",
       "\n",
       "1. The launch of the War on Terror, a global military campaign aimed at rooting out Al-Qaeda and other jihadist groups.\n",
       "2. The invasion of Afghanistan, which toppled the Taliban regime and led to a long and bloody conflict.\n",
       "3. The invasion of Iraq, which was justified by the US government as part of the War on Terror but was widely criticized as a mistake.\n",
       "\n",
       "The consequences of the 9/11 attacks on the United States and the world were far-reaching. They included:\n",
       "\n",
       "1. The loss of thousands of lives, both on the day of the attacks and in the subsequent wars in Afghanistan and Iraq.\n",
       "2. A significant increase in military spending and a shift towards a more militarized foreign policy.\n",
       "3. A rise in Islamophobia and anti-Muslim sentiment in the United States and other Western countries.\n",
       "4. A decline in civil liberties and an increase in surveillance and security measures.\n",
       "\n",
       "Overall, the 9/11 attacks were a pivotal moment in modern history, with far-reaching consequences for global politics, international relations, and the lives of millions of people around the world."
      ],
      "text/plain": [
       "<IPython.core.display.Markdown object>"
      ]
     },
     "metadata": {},
     "output_type": "display_data"
    }
   ],
   "source": [
    "input = f\"\"\"\n",
    "For below user query\n",
    "{query} \n",
    "Use below points while responding: \n",
    "{plan_str}\n",
    "                      \"\"\"\n",
    "\n",
    "res = agent_executor.invoke({\"input\": input})\n",
    "from IPython.display import display, Markdown, Latex\n",
    "\n",
    "display(Markdown(res[\"output\"]))"
   ]
  },
  {
   "cell_type": "code",
   "execution_count": null,
   "metadata": {},
   "outputs": [],
   "source": []
  },
  {
   "cell_type": "code",
   "execution_count": null,
   "metadata": {},
   "outputs": [],
   "source": []
  },
  {
   "cell_type": "code",
   "execution_count": null,
   "metadata": {},
   "outputs": [],
   "source": []
  },
  {
   "cell_type": "code",
   "execution_count": 69,
   "metadata": {},
   "outputs": [
    {
     "data": {
      "text/markdown": [
       "The 2008 market crash, also known as the Global Financial Crisis (GFC), was a complex and multifaceted event with various contributing factors. Here's a breakdown of the key events and factors that led to the crisis:\n",
       "\n",
       "**Key Events Leading Up to the 2008 Market Crash:**\n",
       "\n",
       "1. **Housing Market Boom (2000-2006)**: The US housing market experienced a significant boom, fueled by low interest rates, lax lending standards, and excessive speculation.\n",
       "2. **Subprime Mortgage Crisis (2006-2007)**: Many subprime borrowers, who were not able to afford mortgages, defaulted on their loans, causing a surge in foreclosures and a subsequent decline in housing prices.\n",
       "3. **Financial Deregulation (1999-2004)**: The Gramm-Leach-Bliley Act (1999) repealed parts of the Glass-Steagall Act, allowing commercial banks to engage in investment activities, increasing their exposure to risk. The Securities and Exchange Commission (SEC) also relaxed regulations, enabling financial institutions to take on more leverage.\n",
       "4. **Excessive Leverage and Risk-Taking (2004-2007)**: Financial institutions, including banks and investment banks, took on excessive leverage and risk, creating complex financial instruments, such as mortgage-backed securities (MBS) and collateralized debt obligations (CDOs).\n",
       "\n",
       "**Role of Subprime Mortgage Crisis:**\n",
       "\n",
       "The subprime mortgage crisis played a significant role in the 2008 market crash. Many subprime borrowers were unable to afford their mortgages, leading to a wave of defaults and foreclosures. This caused a decline in housing prices, which in turn led to a decline in the value of mortgage-backed securities (MBS) and collateralized debt obligations (CDOs) held by financial institutions.\n",
       "\n",
       "**Impact of Housing Market Bubble Burst:**\n",
       "\n",
       "The housing market bubble burst in 2006-2007, leading to a sharp decline in housing prices. This decline in housing prices reduced the value of mortgage-backed securities (MBS) and collateralized debt obligations (CDOs), causing significant losses for financial institutions.\n",
       "\n",
       "**Effect of Financial Deregulation:**\n",
       "\n",
       "Financial deregulation contributed to the 2008 market crash by allowing financial institutions to take on excessive leverage and risk. The Gramm-Leach-Bliley Act (1999) and the SEC's relaxation of regulations enabled commercial banks to engage in investment activities, increasing their exposure to risk.\n",
       "\n",
       "**Consequences of Excessive Leverage and Risk-Taking:**\n",
       "\n",
       "Excessive leverage and risk-taking by financial institutions led to a significant increase in their exposure to risk. When the housing market bubble burst, many financial institutions found themselves with large amounts of worthless mortgage-backed securities (MBS) and collateralized debt obligations (CDOs), leading to significant losses and eventual collapse.\n",
       "\n",
       "**Timeline of Major Events During the Crisis:**\n",
       "\n",
       "* August 2007: French bank BNP Paribas halts withdrawals from its investment funds, citing subprime mortgage exposure.\n",
       "* March 2008: Bear Stearns, a US investment bank, is sold to JPMorgan Chase after facing financial difficulties.\n",
       "* September 7, 2008: Fannie Mae and Freddie Mac, US government-sponsored mortgage giants, are placed into conservatorship.\n",
       "* September 14, 2008: Merrill Lynch, a US investment bank, is sold to Bank of America.\n",
       "* September 15, 2008: Lehman Brothers, a US investment bank, files for bankruptcy.\n",
       "* October 3, 2008: The US government passes the Troubled Asset Relief Program (TARP) to provide $700 billion in bailout funds to struggling financial institutions.\n",
       "\n",
       "**Key Factors That Contributed to the 2008 Market Crash:**\n",
       "\n",
       "1. **Subprime Mortgage Crisis**: Widespread defaults on subprime mortgages led to a decline in housing prices and a subsequent decline in the value of mortgage-backed securities (MBS) and collateralized debt obligations (CDOs).\n",
       "2. **Financial Deregulation**: The Gramm-Leach-Bliley Act (1999) and the SEC's relaxation of regulations enabled financial institutions to take on excessive leverage and risk.\n",
       "3. **Excessive Leverage and Risk-Taking**: Financial institutions took on excessive leverage and risk, creating complex financial instruments that ultimately led to significant losses.\n",
       "4. **Housing Market Bubble Burst**: The housing market bubble burst in 2006-2007, leading to a sharp decline in housing prices and a subsequent decline in the value of mortgage-backed securities (MBS) and collateralized debt obligations (CDOs).\n",
       "\n",
       "In summary, the 2008 market crash was caused by a combination of factors, including the subprime mortgage crisis, financial deregulation, excessive leverage and risk-taking, and the housing market bubble burst. These factors created a perfect storm that ultimately led to the collapse of several major financial institutions and a global economic downturn."
      ],
      "text/plain": [
       "<IPython.core.display.Markdown object>"
      ]
     },
     "metadata": {},
     "output_type": "display_data"
    }
   ],
   "source": [
    "response = groq_llm.invoke(\n",
    "    f\"\"\"\n",
    "For below user query\n",
    "{query} \n",
    "Use below points while responding: \n",
    "{plan_str}\n",
    "\n",
    "                      \"\"\"\n",
    ")\n",
    "from IPython.display import display, Markdown, Latex\n",
    "\n",
    "display(Markdown(response.content))"
   ]
  },
  {
   "cell_type": "code",
   "execution_count": null,
   "metadata": {},
   "outputs": [],
   "source": []
  },
  {
   "cell_type": "code",
   "execution_count": null,
   "metadata": {},
   "outputs": [],
   "source": []
  },
  {
   "cell_type": "code",
   "execution_count": 89,
   "metadata": {},
   "outputs": [],
   "source": [
    "from langchain_community.retrievers import TavilySearchAPIRetriever\n",
    "\n",
    "tavily_retriever = TavilySearchAPIRetriever(k=2)\n",
    "\n",
    "\n",
    "\n",
    "def get_results_from_tavily(search_queries):\n",
    "    queries_docs = tavily_retriever.batch(search_queries)\n",
    "    docs = [{\"href\": doc.metadata[\"source\"], \"content\": doc.page_content} for docs in queries_docs for doc in docs]\n",
    "    return docs\n"
   ]
  },
  {
   "cell_type": "code",
   "execution_count": 90,
   "metadata": {},
   "outputs": [],
   "source": [
    "def search_web(search_queries: str, explanation: str) -> str:\n",
    "    \"\"\"The search_web tool allows to augment knowledge and retrieve the latest information on a topic by searching the web using provided comma-separated search queries max queries 2. This tool returns a summary of the key points from all retrieved web pages, enabling me to provide more accurate and up-to-date information.\n",
    "\n",
    "    Args:\n",
    "        search_queries (str): comma seperated search queries without quotes, related to the topic, max queries 3\n",
    "        explanation (str): give a reason for choosing this tool\n",
    "\n",
    "    Returns:\n",
    "        str: summary of all web pages retrieved for a search query\n",
    "    \"\"\"\n",
    "\n",
    "    search_queries = search_queries.split(\",\")\n",
    "    # search_queries = [clean_text(query) for query in search_queries]\n",
    "\n",
    "    urls = []\n",
    "    results = get_results_from_tavily(search_queries)\n",
    "    urls += [item[\"href\"] for item in results]\n",
    "\n",
    "    print(\"****   WEB SEARCH  *****\")\n",
    "    print(search_queries)\n",
    "    for url in urls:\n",
    "        print(url)\n",
    "\n",
    "    summaries = \"\\n\\n\".join([f\"\\n\\nContent: {(doc['content'])}\" for idx, doc in enumerate(results)])\n",
    "    return summaries"
   ]
  },
  {
   "cell_type": "code",
   "execution_count": 96,
   "metadata": {},
   "outputs": [
    {
     "name": "stdout",
     "output_type": "stream",
     "text": [
      "****   WEB SEARCH  *****\n",
      "['elon musk wikipedia', ' jeff bezos']\n",
      "https://www.wikiwand.com/en/Elon_Musk\n",
      "https://simple.wikipedia.org/wiki/Elon_Musk\n",
      "https://www.britannica.com/money/Jeff-Bezos\n",
      "https://en.wikipedia.org/wiki/Jeff_Bezos\n",
      "\n",
      "\n",
      "Content: He is the wealthiest person in the world, with an estimated net worth of US$232 billion as of December 2023[update], according to the Bloomberg Billionaires Index, and $254 billion according to Forbes, primarily from his ownership stakes in Tesla and SpaceX.[5][6]\n",
      "A member of the wealthy South African Musk family, Elon was born in Pretoria and briefly attended the University of Pretoria before immigrating to Canada at age 18, acquiring citizenship through his Canadian-born mother. He is the founder, chairman, CEO, and chief technology officer of SpaceX; angel investor, CEO, product architect and former chairman of Tesla, Inc.; owner, chairman and CTO of X Corp.; founder of the Boring Company and xAI; co-founder of Neuralink and OpenAI; and president of the Musk Foundation. Elon Musk\n",
      "Businessman (born 1971) /\n",
      "From Wikipedia, the free\n",
      "encyclopedia\n",
      "Can you list the top facts and stats about Elon Musk?\n",
      "Summarize this article for a 10 year old\n",
      "Elon Reeve Musk (/ˈiːlɒn/ EE-lon; born June 28, 1971) is a businessman and investor. His ownership of Twitter has been similarly controversial, including; laying off a large number of employees, an increase in hate speech and misinformation and disinformation on the website, as well as changes to Twitter Blue verification. In October 2002, eBay acquired PayPal for $1.5 billion, and that same year, with $100 million of the money he made, Musk founded SpaceX, a spaceflight services company.\n",
      "\n",
      "\n",
      "\n",
      "Content: In 2022, he became the owner of the social media site Twitter after buying it for USD $44 billion.[2]\n",
      "Musk is the second-wealthiest person in the world, according to both the Bloomberg Billionaires Index and Forbes's real-time billionaires list.[3][4] These were to start businesses in the internet, renewable energy and outer space.[10] He became an American citizen in 2002.[11]\n",
      "Projects[change | change source]\n",
      "At the end of 2016, Musk founded The Boring Company which focuses on tunneling and infrastructure. Musk has Asperger's which is a former type of Autism.[5]\n",
      "Early life and career[change | change source]\n",
      "Elon Musk was born to a Canadian mother and a South African-born British father in Pretoria, South Africa on June 28, 1971.[6] Then he moved to California to attempt to get a PhD in applied physics at Stanford but he left the program after only two days because he wanted to pursue his entrepreneurial aspirations. He is also the CEO of Solar City, a company that makes solar panels, and the CEO & CTO of SpaceX, an aerospace company.\n",
      "\n",
      "\n",
      "\n",
      "\n",
      "Content: Jeff Bezos (born January 12, 1964, Albuquerque, New Mexico, U.S.) is an American entrepreneur who played a key role in the growth of e-commerce as the founder and chief executive officer of Amazon.com, Inc., an online merchant of books and later of a wide variety of products.\n",
      "\n",
      "\n",
      "\n",
      "Content: He warned many early investors that there was a 70% chance that Amazon would fail or go bankrupt.[53] Although Amazon was originally an online bookstore, Bezos had always planned to expand to other products.[43][49] Three years after Bezos founded Amazon, he took it public with an initial public offering (IPO).[54] In response to critical reports from Fortune and Barron's, Bezos maintained that the growth of the Internet would overtake competition from larger book retailers such as Borders and Barnes & Noble.[49]\n",
      "In 1998, Bezos diversified into the online sale of music and video, and by the end of the year he had expanded the company's products to include a variety of other consumer goods.[49] Bezos used the $54 million raised during the company's 1997 equity offering to finance the aggressive acquisition of smaller competitors.[49] In 2000, Bezos borrowed $2 billion from banks, as its cash balances dipped to only $350 million.[55] In January 2019, Bezos and his wife Mackenzie released a joint statement which revealed that they would be getting divorced after 25 years together.[250][251][252] Subsequently, National Enquirer revealed that Bezos had an affair with media personality Lauren Sánchez; the affair with Sánchez had lasted for months.[253][254] Later, Bezos published an online essay on February 7, 2019, in which he accused American Media, Inc. owner David Pecker of \"extortion and blackmail\" for threatening to publish intimate photos of Bezos and current girlfriend Lauren Sánchez[255] if he did not stop his investigation into how his text messages and other photos had been leaked to the National Enquirer.[256][257] Media reports have accused Sánchez's brother Michael of being the source for the photos obtained by National Enquirer; however, Bezos has speculated that it may have been the Saudi Arabian government.[258]\n",
      "On April 4, 2019, the divorce was finalized, with Bezos keeping 75% of the couple's Amazon stock and MacKenzie getting the remaining 25% ($35.6 billion) in Amazon stock. \"[275] Despite Bezos's support for an open borders policy towards immigrants, Amazon has actively marketed facial recognition software to U.S. Immigration and Customs Enforcement (ICE).[276]\n",
      "In 2019, a political action committee linked to Bezos spent over $1 million in an unsuccessful attempt to defeat the reelection bid of Seattle city council member and activist Kshama Sawant.[277]\n",
      "On November 22, 2021, Jeff Bezos donated $100 million to the Obama Foundation to \"help expand the scope of programming that reaches emerging leaders\", and requested the Obama Presidential Center's plaza to be named after John Lewis.[278][279]\n",
      "Saudi hacking claim\n",
      "In March 2018, Bezos met in Seattle with Mohammad bin Salman, the crown prince and de facto ruler of Saudi Arabia, to discuss investment opportunities for Saudi Vision 2030.[280] In March 2019, Bezos's security consultant accused the Saudi government of hacking Bezos's phone. With Bezos at the helm and Scott taking an integral role in its operation—writing checks, keeping track of the books, and negotiating the company's first freight contracts—the foundation was laid for this garage-run operation to grow exponentially.[47] Prior to settling in Seattle, Bezos had investigated setting up his company at an Indian reservation near San Francisco in order to avoid paying taxes.[48] Bezos initially named his new company Cadabra but later changed the name to Amazon after the Amazon River in South America, in part because the name begins with the letter A, which is at the beginning of the alphabet.[49] At the time, website listings were alphabetized, so a name starting with \"A\" would appear sooner when customers conducted online searches.[50] At the time of the post, Bezos's lifetime spending on charitable causes was estimated to be $100 million.[26] Multiple opinion columnists responded by asking Bezos to pay higher wages to Amazon warehouse workers.[291][292] A year later in June, he tweeted that he would announce two philanthropic foci by the end of summer 2018.[293] Bezos announced in September 2018 that he would commit approximately $2 billion to a fund to deal with American homelessness and establish a network of non-profit preschools for low income communities.[294] As part of this announcement, he committed to establishing the \"Day 1 Families Fund\" to finance \"night shelters and day care centers for homeless families\" and the \"Day 1 Academies Fund\" for early childhood education.[295][296]\n",
      "In January 2018, Bezos made a $33 million donation to TheDream.\n"
     ]
    }
   ],
   "source": [
    "print(search_web(\"elon musk wikipedia, jeff bezos\", \"\"))"
   ]
  },
  {
   "cell_type": "code",
   "execution_count": null,
   "metadata": {},
   "outputs": [],
   "source": []
  }
 ],
 "metadata": {
  "kernelspec": {
   "display_name": "base",
   "language": "python",
   "name": "python3"
  },
  "language_info": {
   "codemirror_mode": {
    "name": "ipython",
    "version": 3
   },
   "file_extension": ".py",
   "mimetype": "text/x-python",
   "name": "python",
   "nbconvert_exporter": "python",
   "pygments_lexer": "ipython3",
   "version": "3.12.4"
  }
 },
 "nbformat": 4,
 "nbformat_minor": 2
}
